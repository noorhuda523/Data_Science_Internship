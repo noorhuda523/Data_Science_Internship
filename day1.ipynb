{
 "cells": [
  {
   "cell_type": "code",
   "execution_count": 1,
   "id": "632d241a-a66c-4c5f-b619-413d98d5604b",
   "metadata": {},
   "outputs": [
    {
     "name": "stdout",
     "output_type": "stream",
     "text": [
      "Name:Ruba, Age:23, Height:5.3, Student:False\n"
     ]
    }
   ],
   "source": [
    "name = \"Ruba\"         \n",
    "age = 23               \n",
    "height = 5.3           \n",
    "is_student = False      \n",
    "print(f\"Name:{name}, Age:{age}, Height:{height}, Student:{is_student}\")"
   ]
  },
  {
   "cell_type": "code",
   "execution_count": 11,
   "id": "cb8d8334-8824-44c1-82b5-2023f3112112",
   "metadata": {},
   "outputs": [
    {
     "name": "stdout",
     "output_type": "stream",
     "text": [
      "List: ['apple', 'banana', 'cherry']\n",
      "After append: ['apple', 'banana', 'cherry', 'mango']\n",
      "After insert: ['stawbarry', 'apple', 'banana', 'cherry', 'mango']\n"
     ]
    }
   ],
   "source": [
    "#list\n",
    "fruits = [\"apple\", \"banana\", \"cherry\"]\n",
    "print(\"List:\", fruits)\n",
    "fruits.append(\"mango\") \n",
    "print(\"After append:\", fruits)\n",
    "fruits.insert(0,\"stawbarry\") \n",
    "print(\"After insert:\", fruits)"
   ]
  },
  {
   "cell_type": "code",
   "execution_count": 10,
   "id": "b4c68a9e-7a39-44fa-ac8f-d6982ef00be9",
   "metadata": {},
   "outputs": [
    {
     "name": "stdout",
     "output_type": "stream",
     "text": [
      "Tuple: ('red', 'green', 'blue', 'blue', 'orang')\n",
      "First color: green\n",
      "2\n",
      "2\n"
     ]
    }
   ],
   "source": [
    "#tuple\n",
    "colors = (\"red\", \"green\", \"blue\",\"blue\",\"orang\")\n",
    "print(\"Tuple:\", colors)\n",
    "print(\"First color:\", colors[1])\n",
    "print(colors.count(\"blue\"))\n",
    "print(colors.index(\"blue\"))"
   ]
  },
  {
   "cell_type": "code",
   "execution_count": 14,
   "id": "e421a111-597d-4eb6-ac3d-bc53c347e5f5",
   "metadata": {},
   "outputs": [
    {
     "name": "stdout",
     "output_type": "stream",
     "text": [
      "Dictionary: {'name': ['Ali', 'Amna'], 'age': [21, 22], 'grade': ['A', 'B']}\n",
      "Name: Amna\n"
     ]
    }
   ],
   "source": [
    "#dict\n",
    "student = {\"name\": [\"Ali\",\"Amna\"], \"age\": [21,22], \"grade\": [\"A\",\"B\"]}\n",
    "print(\"Dictionary:\", student)\n",
    "print(\"Name:\", student[\"name\"][1])"
   ]
  },
  {
   "cell_type": "code",
   "execution_count": 18,
   "id": "26c83ce4-d8d0-4bb2-81e9-6b531b1af6d5",
   "metadata": {},
   "outputs": [
    {
     "name": "stdout",
     "output_type": "stream",
     "text": [
      "apple\n",
      "banana\n",
      "cherry\n",
      "Even number: 2\n",
      "Even number: 4\n",
      "Even number: 6\n",
      "Even number: 8\n"
     ]
    }
   ],
   "source": [
    "fruits = [\"apple\", \"banana\", \"cherry\"]\n",
    "for fruit in fruits:\n",
    "    print(fruit)\n",
    "    \n",
    "for i in range(2, 10, 2):   \n",
    "    print(\"Even number:\", i)"
   ]
  },
  {
   "cell_type": "code",
   "execution_count": 17,
   "id": "5b88899a-8dcb-4f1a-a755-5da8a7c11a11",
   "metadata": {},
   "outputs": [
    {
     "name": "stdout",
     "output_type": "stream",
     "text": [
      "Count: 1\n",
      "Count: 2\n",
      "Count: 3\n"
     ]
    }
   ],
   "source": [
    "count = 1\n",
    "while count <= 3:\n",
    "    print(\"Count:\", count)\n",
    "    count += 1"
   ]
  },
  {
   "cell_type": "code",
   "execution_count": 19,
   "id": "87f08b2d-e8c8-49f3-81f3-7951a8ae6509",
   "metadata": {},
   "outputs": [
    {
     "name": "stdout",
     "output_type": "stream",
     "text": [
      "name = Sna\n",
      "age = 21\n",
      "grade = A\n",
      "name : Sna\n",
      "age : 21\n",
      "grade : A\n"
     ]
    }
   ],
   "source": [
    "student = {\"name\": \"Sna\", \"age\": 21, \"grade\": \"A\"}\n",
    "for key in student:\n",
    "    print(key, \"=\", student[key])\n",
    "for key, value in student.items():\n",
    "    print(key, \":\", value)"
   ]
  },
  {
   "cell_type": "code",
   "execution_count": 20,
   "id": "ced85de6-60b9-4cdd-9f3f-e8ffe3f38142",
   "metadata": {},
   "outputs": [
    {
     "name": "stdout",
     "output_type": "stream",
     "text": [
      "Hello, Rubaba\n"
     ]
    }
   ],
   "source": [
    "def greet(name):\n",
    "    print(\"Hello,\", name)\n",
    "greet(\"Rubaba\")"
   ]
  },
  {
   "cell_type": "code",
   "execution_count": 22,
   "id": "f09e8e8d-ad81-432d-a5e0-3440678b51fb",
   "metadata": {},
   "outputs": [
    {
     "name": "stdout",
     "output_type": "stream",
     "text": [
      "Multiple: 15\n"
     ]
    }
   ],
   "source": [
    "def mul(a, b):\n",
    "    return a * b\n",
    "res = mul(5, 3)\n",
    "print(\"Multiple:\", res)"
   ]
  },
  {
   "cell_type": "code",
   "execution_count": 23,
   "id": "aed550cc-a93e-4825-af66-832a99dfe9f3",
   "metadata": {},
   "outputs": [
    {
     "name": "stdout",
     "output_type": "stream",
     "text": [
      "Total: 20\n"
     ]
    }
   ],
   "source": [
    "def add_numbers(*nums):\n",
    "    total = sum(nums)\n",
    "    print(\"Total:\", total)\n",
    "add_numbers(2, 4, 6, 8)\n"
   ]
  },
  {
   "cell_type": "code",
   "execution_count": 24,
   "id": "5a304bb0-775f-4810-81ef-d505bed66abc",
   "metadata": {},
   "outputs": [
    {
     "name": "stdout",
     "output_type": "stream",
     "text": [
      "Square is: 25\n"
     ]
    }
   ],
   "source": [
    "square = lambda x: x * x\n",
    "print(\"Square is:\", square(5))"
   ]
  },
  {
   "cell_type": "code",
   "execution_count": 26,
   "id": "d9185c17-fe67-495d-be9c-7e03a04eef28",
   "metadata": {},
   "outputs": [
    {
     "name": "stdout",
     "output_type": "stream",
     "text": [
      "Student Marks\n",
      "   Student  Math  Science\n",
      "0     Amna    78       85\n",
      "1     Sara    92       89\n",
      "2    Rubab    88       91\n",
      "3     Zara    75       80\n",
      "4  Mehreen    80       77\n"
     ]
    }
   ],
   "source": [
    "#scenario1\n",
    "import pandas as pd\n",
    "import matplotlib.pyplot as plt\n",
    "data = {\n",
    "    'Student': ['Amna', 'Sara', 'Rubab', 'Zara', 'Mehreen'],\n",
    "    'Math': [78, 92, 88, 75, 80],\n",
    "    'Science': [85, 89, 91, 80, 77]\n",
    "}\n",
    "df = pd.DataFrame(data)\n",
    "print(\"Student Marks\")\n",
    "print(df)"
   ]
  },
  {
   "cell_type": "code",
   "execution_count": 27,
   "id": "fdd6d3e9-a1b3-4b13-ba7e-7ad483a0a74b",
   "metadata": {},
   "outputs": [
    {
     "name": "stdout",
     "output_type": "stream",
     "text": [
      "\n",
      " Average Marks\n",
      "Math       82.6\n",
      "Science    84.4\n",
      "dtype: float64\n",
      "\n",
      " Highest Marks\n",
      "Math       92\n",
      "Science    91\n",
      "dtype: int64\n"
     ]
    }
   ],
   "source": [
    "average_marks = df[['Math', 'Science']].mean()\n",
    "print(\"\\n Average Marks\")\n",
    "print(average_marks)\n",
    "highest_marks = df[['Math', 'Science']].max()\n",
    "print(\"\\n Highest Marks\")\n",
    "print(highest_marks)"
   ]
  },
  {
   "cell_type": "code",
   "execution_count": 29,
   "id": "4a972c05-33d2-4c90-b41c-7d8e2492e81d",
   "metadata": {},
   "outputs": [
    {
     "data": {
      "image/png": "[encoded data removed]",
      "text/plain": [
       "<Figure size 700x400 with 1 Axes>"
      ]
     },
     "metadata": {},
     "output_type": "display_data"
    }
   ],
   "source": [
    "df.plot(x='Student', y=['Math', 'Science'],kind='bar', figsize=(7,4))\n",
    "plt.title('Student Performance Comparison')\n",
    "plt.ylabel(\"Marks\")\n",
    "plt.xlabel(\"Students\")\n",
    "plt.show()"
   ]
  },
  {
   "cell_type": "code",
   "execution_count": 31,
   "id": "54887fa5-b622-4164-8c4b-6d0f453055ef",
   "metadata": {},
   "outputs": [],
   "source": [
    "#scenario2\n",
    "import numpy as np"
   ]
  },
  {
   "cell_type": "code",
   "execution_count": 34,
   "id": "cc1fb83f-960a-4806-a451-8c53c6517574",
   "metadata": {},
   "outputs": [],
   "source": [
    "products = ['Rice', 'Oil', 'Sugar']\n",
    "days = ['Mon', 'Tue', 'Wed', 'Thu', 'Fri']\n",
    "sales = np.array([\n",
    "    [2500, 2700, 2600, 3000, 2800],  \n",
    "    [3200, 3400, 3100, 3600, 3500],  \n",
    "    [1800, 1900, 2000, 2100, 2200]   \n",
    "])\n",
    "total_sales = np.sum(sales, axis=1)\n",
    "average_sales = np.mean(sales, axis=1)"
   ]
  },
  {
   "cell_type": "code",
   "execution_count": 35,
   "id": "c755428e-6625-470e-8c2b-ea396b003b56",
   "metadata": {},
   "outputs": [
    {
     "name": "stdout",
     "output_type": "stream",
     "text": [
      "Daily Sales Summary\n",
      "  Product  Total   Average \n",
      "0    Rice   13600    2720.0\n",
      "1     Oil   16800    3360.0\n",
      "2   Sugar   10000    2000.0\n"
     ]
    }
   ],
   "source": [
    "df = pd.DataFrame({\n",
    "    'Product': products,\n",
    "    'Total ': total_sales,\n",
    "    'Average ': average_sales\n",
    "})\n",
    "print(\"Daily Sales Summary\")\n",
    "print(df)"
   ]
  },
  {
   "cell_type": "code",
   "execution_count": 37,
   "id": "42ea4148-cc9d-4ecf-9225-99778fd1e108",
   "metadata": {},
   "outputs": [
    {
     "data": {
      "image/png": "[encoded data removed]",
      "text/plain": [
       "<Figure size 640x480 with 1 Axes>"
      ]
     },
     "metadata": {},
     "output_type": "display_data"
    }
   ],
   "source": [
    "plt.plot(products, average_sales, marker='o')\n",
    "plt.title(\"Average Sales per Product\")\n",
    "plt.xlabel(\"Product\")\n",
    "plt.ylabel(\"Average Sales\")\n",
    "plt.grid(True)\n",
    "plt.show()"
   ]
  },
  {
   "cell_type": "code",
   "execution_count": null,
   "id": "48b1e783-623a-4a8d-b072-0c98fe9bc8b9",
   "metadata": {},
   "outputs": [],
   "source": []
  }
 ],
 "metadata": {
  "kernelspec": {
   "display_name": "Python [conda env:base] *",
   "language": "python",
   "name": "conda-base-py"
  },
  "language_info": {
   "codemirror_mode": {
    "name": "ipython",
    "version": 3
   },
   "file_extension": ".py",
   "mimetype": "text/x-python",
   "name": "python",
   "nbconvert_exporter": "python",
   "pygments_lexer": "ipython3",
   "version": "3.13.5"
  }
 },
 "nbformat": 4,
 "nbformat_minor": 5
}
